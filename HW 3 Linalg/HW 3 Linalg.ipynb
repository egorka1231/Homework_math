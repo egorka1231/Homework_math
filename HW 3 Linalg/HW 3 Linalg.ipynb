{
 "cells": [
  {
   "cell_type": "code",
   "execution_count": 2,
   "metadata": {},
   "outputs": [],
   "source": [
    "import numpy as np"
   ]
  },
  {
   "cell_type": "markdown",
   "metadata": {},
   "source": [
    "## Уровень 0\n",
    "Придумайте матрицы, которые обладают следующими свойствами:\n",
    "- диагональная, ортогональная, но не единичная(!):\n",
    "- верхнетреугольная, ортогональная:\n",
    "- нижнетреугольная, ортогональная:\n",
    "- матрица, у которой определитель = 1, и все элементы не равны 0:\n",
    "\n",
    "P.S. Во всех пунктах ответом должна быть ненулевая матрица размерности не менее 2!\n",
    "\n",
    "Найдите собственные значения и собственные вектора матриц:\n",
    "\n",
    "m = np.array([[2, 2],\n",
    "[1, 3]])\n",
    "\n",
    "print(m)"
   ]
  },
  {
   "cell_type": "code",
   "execution_count": 51,
   "metadata": {},
   "outputs": [
    {
     "name": "stdout",
     "output_type": "stream",
     "text": [
      "[[ 1  0  0]\n",
      " [ 0 -1  0]\n",
      " [ 0  0  1]]\n",
      "[[1. 0. 0.]\n",
      " [0. 1. 0.]\n",
      " [0. 0. 1.]]\n",
      "-1.0\n"
     ]
    }
   ],
   "source": [
    "# диагональная, ортогональная, но не единичная(!)\n",
    "matrix_a = np.diag([1,-1,1])\n",
    "print(matrix_a)\n",
    "print(np.linalg.inv(matrix_a) @ matrix_a)\n",
    "print(np.linalg.det(matrix_a))"
   ]
  },
  {
   "cell_type": "code",
   "execution_count": 45,
   "metadata": {},
   "outputs": [
    {
     "name": "stdout",
     "output_type": "stream",
     "text": [
      "[[1 1 1]\n",
      " [0 1 1]\n",
      " [0 0 1]]\n",
      "[[1. 0. 0.]\n",
      " [0. 1. 0.]\n",
      " [0. 0. 1.]]\n",
      "1.0\n"
     ]
    }
   ],
   "source": [
    "#верхнетреугольная, ортогональная\n",
    "matrix_b = np.array([[1,1,1],[0,1,1],[0,0,1]])\n",
    "print(matrix_b)\n",
    "print(np.linalg.inv(matrix_b) @ matrix_b)\n",
    "print(np.linalg.det(matrix_b))"
   ]
  },
  {
   "cell_type": "code",
   "execution_count": 49,
   "metadata": {},
   "outputs": [
    {
     "name": "stdout",
     "output_type": "stream",
     "text": [
      "[[1 0 0]\n",
      " [1 1 0]\n",
      " [1 1 1]]\n",
      "[[1. 0. 0.]\n",
      " [0. 1. 0.]\n",
      " [0. 0. 1.]]\n",
      "1.0\n"
     ]
    }
   ],
   "source": [
    "#нижнетреугольная, ортогональная\n",
    "matrix_c = np.array([[1,0,0],[1,1,0],[1,1,1]])\n",
    "print(matrix_c)\n",
    "print(np.linalg.inv(matrix_c) @ matrix_c)\n",
    "print(np.linalg.det(matrix_c))"
   ]
  },
  {
   "cell_type": "code",
   "execution_count": 141,
   "metadata": {},
   "outputs": [
    {
     "name": "stdout",
     "output_type": "stream",
     "text": [
      "[[2.  4. ]\n",
      " [4.  8.5]]\n",
      "1.0\n"
     ]
    }
   ],
   "source": [
    "#матрица, у которой определитель = 1, и все элементы не равны 0:\n",
    "matrix_d = np.array([[2,4],[4,8.5]])\n",
    "print(matrix_d)\n",
    "print(np.linalg.det(matrix_d))"
   ]
  },
  {
   "cell_type": "code",
   "execution_count": 143,
   "metadata": {},
   "outputs": [
    {
     "name": "stdout",
     "output_type": "stream",
     "text": [
      "[[2 2]\n",
      " [1 3]]\n",
      "Собственное значение 1.0\n",
      "соответствующий ему собственный вектор [-0.89442719  0.4472136 ]\n",
      "Собственное значение 4.0\n",
      "соответствующий ему собственный вектор [-0.70710678 -0.70710678]\n"
     ]
    }
   ],
   "source": [
    "#Найдите собственные значения и собственные вектора матриц:\n",
    "m = np.array([[2, 2], [1, 3]])\n",
    "print(m)\n",
    "\n",
    "w, v = np.linalg.eig(m)\n",
    "for i in range(len(w)):\n",
    "    print(\"Собственное значение \" + str(w[i]))\n",
    "    print(\"соответствующий ему собственный вектор \" + str(v[:,i]))"
   ]
  },
  {
   "cell_type": "markdown",
   "metadata": {},
   "source": [
    "## Уровень 1\n",
    "Найдите спектральное разложение матрицы:\n",
    "m = np.array([[1, 2],\n",
    "[2,3]])\n",
    "\n",
    "print(m)\n",
    " "
   ]
  },
  {
   "cell_type": "code",
   "execution_count": 146,
   "metadata": {},
   "outputs": [
    {
     "name": "stdout",
     "output_type": "stream",
     "text": [
      "[[1 2]\n",
      " [2 3]]\n",
      "\n",
      "Eigenvalues:\n",
      "[-0.23606798  4.23606798]\n",
      "\n",
      "Eigenvectors:\n",
      "[[-0.85065081 -0.52573111]\n",
      " [ 0.52573111 -0.85065081]]\n"
     ]
    }
   ],
   "source": [
    "m = np.array([[1, 2], [2,3]])\n",
    "print(m)\n",
    "\n",
    "#спектральное разложение матрицы\n",
    "a, U = np.linalg.eig(m)\n",
    "print('\\nEigenvalues:')\n",
    "print(np.array(a, dtype=float))\n",
    "print('\\nEigenvectors:')\n",
    "print(U)\n",
    "\n"
   ]
  },
  {
   "cell_type": "code",
   "execution_count": 147,
   "metadata": {},
   "outputs": [
    {
     "name": "stdout",
     "output_type": "stream",
     "text": [
      "[[1. 2.]\n",
      " [2. 3.]]\n"
     ]
    }
   ],
   "source": [
    "#Проверим, действительно ли это верно\n",
    "print(np.array(U.dot(np.diag(a)).dot(U.T), dtype=float))"
   ]
  },
  {
   "cell_type": "code",
   "execution_count": 148,
   "metadata": {},
   "outputs": [],
   "source": [
    "#получили исходную матрицу"
   ]
  },
  {
   "cell_type": "markdown",
   "metadata": {},
   "source": [
    "Постройте зависимость качества восстановления рукописных цифр (MNIST) в зависимости от различного количества компонент PCA. В качестве метрики различия предлагаю использовать MSE. *\n",
    "\n",
    "У PCA есть метод transform и inverse_transofrm. Первый - снижает размерность, второй - восстанавливает оригинальные данные с потерей информации\n",
    "\n",
    "Надо посчитать насколько в среднем точно восстанавливается оригинальная картинка в зависимости от количества компонент в PCA\n",
    "\n",
    "В качестве справки можно использовать:\n",
    "\n",
    "https://scikit-learn.org/stable/modules/generated/sklearn.decomposition.PCA.html - документация по PCA\n",
    "https://scikit-learn.org/stable/modules/generated/sklearn.metrics.mean_squared_error.html  - документация по MSE\n",
    "\t\n",
    "Картинки цифр можно взять отсюда - https://scikit-learn.org/stable/modules/generated/sklearn.datasets.load_digits.html"
   ]
  },
  {
   "cell_type": "code",
   "execution_count": 157,
   "metadata": {},
   "outputs": [
    {
     "name": "stdout",
     "output_type": "stream",
     "text": [
      "(1797, 64)\n"
     ]
    },
    {
     "data": {
      "text/plain": [
       "<Figure size 432x288 with 0 Axes>"
      ]
     },
     "metadata": {},
     "output_type": "display_data"
    },
    {
     "data": {
      "image/png": "[encoded data removed]",
      "text/plain": [
       "<Figure size 288x288 with 1 Axes>"
      ]
     },
     "metadata": {
      "needs_background": "light"
     },
     "output_type": "display_data"
    }
   ],
   "source": [
    ">>> from sklearn.datasets import load_digits\n",
    ">>> digits = load_digits()\n",
    ">>> print(digits.data.shape)\n",
    "(1797, 64)\n",
    "five = digits.images[5]\n",
    ">>> import matplotlib.pyplot as plt \n",
    ">>> plt.gray() \n",
    ">>> plt.matshow(five) \n",
    ">>> plt.show() "
   ]
  },
  {
   "cell_type": "code",
   "execution_count": 158,
   "metadata": {
    "scrolled": true
   },
   "outputs": [
    {
     "data": {
      "text/plain": [
       "array([[ 0.,  0., 12., 10.,  0.,  0.,  0.,  0.],\n",
       "       [ 0.,  0., 14., 16., 16., 14.,  0.,  0.],\n",
       "       [ 0.,  0., 13., 16., 15., 10.,  1.,  0.],\n",
       "       [ 0.,  0., 11., 16., 16.,  7.,  0.,  0.],\n",
       "       [ 0.,  0.,  0.,  4.,  7., 16.,  7.,  0.],\n",
       "       [ 0.,  0.,  0.,  0.,  4., 16.,  9.,  0.],\n",
       "       [ 0.,  0.,  5.,  4., 12., 16.,  4.,  0.],\n",
       "       [ 0.,  0.,  9., 16., 16., 10.,  0.,  0.]])"
      ]
     },
     "execution_count": 158,
     "metadata": {},
     "output_type": "execute_result"
    }
   ],
   "source": [
    "five"
   ]
  },
  {
   "cell_type": "code",
   "execution_count": 161,
   "metadata": {},
   "outputs": [],
   "source": [
    "from sklearn.decomposition import PCA"
   ]
  },
  {
   "cell_type": "code",
   "execution_count": 176,
   "metadata": {},
   "outputs": [
    {
     "name": "stdout",
     "output_type": "stream",
     "text": [
      "try 1\n"
     ]
    },
    {
     "data": {
      "text/plain": [
       "<Figure size 432x288 with 0 Axes>"
      ]
     },
     "metadata": {},
     "output_type": "display_data"
    },
    {
     "data": {
      "image/png": "[encoded data removed]",
      "text/plain": [
       "<Figure size 288x1152 with 1 Axes>"
      ]
     },
     "metadata": {
      "needs_background": "light"
     },
     "output_type": "display_data"
    },
    {
     "name": "stdout",
     "output_type": "stream",
     "text": [
      "try 2\n"
     ]
    },
    {
     "data": {
      "text/plain": [
       "<Figure size 432x288 with 0 Axes>"
      ]
     },
     "metadata": {},
     "output_type": "display_data"
    },
    {
     "data": {
      "image/png": "[encoded data removed]",
      "text/plain": [
       "<Figure size 288x1152 with 1 Axes>"
      ]
     },
     "metadata": {
      "needs_background": "light"
     },
     "output_type": "display_data"
    },
    {
     "name": "stdout",
     "output_type": "stream",
     "text": [
      "try 3\n"
     ]
    },
    {
     "data": {
      "text/plain": [
       "<Figure size 432x288 with 0 Axes>"
      ]
     },
     "metadata": {},
     "output_type": "display_data"
    },
    {
     "data": {
      "image/png": "[encoded data removed]",
      "text/plain": [
       "<Figure size 288x768 with 1 Axes>"
      ]
     },
     "metadata": {
      "needs_background": "light"
     },
     "output_type": "display_data"
    },
    {
     "name": "stdout",
     "output_type": "stream",
     "text": [
      "try 4\n"
     ]
    },
    {
     "data": {
      "text/plain": [
       "<Figure size 432x288 with 0 Axes>"
      ]
     },
     "metadata": {},
     "output_type": "display_data"
    },
    {
     "data": {
      "image/png": "[encoded data removed]",
      "text/plain": [
       "<Figure size 288x576 with 1 Axes>"
      ]
     },
     "metadata": {
      "needs_background": "light"
     },
     "output_type": "display_data"
    },
    {
     "name": "stdout",
     "output_type": "stream",
     "text": [
      "try 5\n"
     ]
    },
    {
     "data": {
      "text/plain": [
       "<Figure size 432x288 with 0 Axes>"
      ]
     },
     "metadata": {},
     "output_type": "display_data"
    },
    {
     "data": {
      "image/png": "[encoded data removed]",
      "text/plain": [
       "<Figure size 288x460.8 with 1 Axes>"
      ]
     },
     "metadata": {
      "needs_background": "light"
     },
     "output_type": "display_data"
    },
    {
     "name": "stdout",
     "output_type": "stream",
     "text": [
      "try 6\n"
     ]
    },
    {
     "data": {
      "text/plain": [
       "<Figure size 432x288 with 0 Axes>"
      ]
     },
     "metadata": {},
     "output_type": "display_data"
    },
    {
     "data": {
      "image/png": "[encoded data removed]",
      "text/plain": [
       "<Figure size 288x384 with 1 Axes>"
      ]
     },
     "metadata": {
      "needs_background": "light"
     },
     "output_type": "display_data"
    },
    {
     "name": "stdout",
     "output_type": "stream",
     "text": [
      "try 7\n"
     ]
    },
    {
     "data": {
      "text/plain": [
       "<Figure size 432x288 with 0 Axes>"
      ]
     },
     "metadata": {},
     "output_type": "display_data"
    },
    {
     "data": {
      "image/png": "[encoded data removed]",
      "text/plain": [
       "<Figure size 288x329.143 with 1 Axes>"
      ]
     },
     "metadata": {
      "needs_background": "light"
     },
     "output_type": "display_data"
    },
    {
     "name": "stdout",
     "output_type": "stream",
     "text": [
      "try 8\n"
     ]
    },
    {
     "data": {
      "text/plain": [
       "<Figure size 432x288 with 0 Axes>"
      ]
     },
     "metadata": {},
     "output_type": "display_data"
    },
    {
     "data": {
      "image/png": "[encoded data removed]",
      "text/plain": [
       "<Figure size 288x288 with 1 Axes>"
      ]
     },
     "metadata": {
      "needs_background": "light"
     },
     "output_type": "display_data"
    }
   ],
   "source": [
    "a = []\n",
    "for i in range(1,9): \n",
    "    pca = PCA(n_components=i)\n",
    "    new = pca.fit_transform(five)\n",
    "    a.append(new)\n",
    "    print('try', i)\n",
    "    plt.gray() \n",
    "    plt.matshow(new) \n",
    "    plt.show()\n",
    "    \n"
   ]
  },
  {
   "cell_type": "code",
   "execution_count": 177,
   "metadata": {
    "scrolled": true
   },
   "outputs": [
    {
     "name": "stdout",
     "output_type": "stream",
     "text": [
      "[array([[-1.8008942 ],\n",
      "       [-8.73198467],\n",
      "       [-8.67650797],\n",
      "       [-9.26282024],\n",
      "       [12.32211129],\n",
      "       [16.67226284],\n",
      "       [ 6.84974992],\n",
      "       [-7.37191698]]), array([[-1.8008942 , 16.07407928],\n",
      "       [-8.73198467, -4.79497927],\n",
      "       [-8.67650797, -1.62257238],\n",
      "       [-9.26282024, -0.49438593],\n",
      "       [12.32211129, -2.02535495],\n",
      "       [16.67226284,  0.14560886],\n",
      "       [ 6.84974992, -4.41128567],\n",
      "       [-7.37191698, -2.87110993]]), array([[-1.8008942 , 16.07407928,  0.71464173],\n",
      "       [-8.73198467, -4.79497927,  3.37957562],\n",
      "       [-8.67650797, -1.62257238,  0.81343531],\n",
      "       [-9.26282024, -0.49438593, -2.49277619],\n",
      "       [12.32211129, -2.02535495, -1.40424534],\n",
      "       [16.67226284,  0.14560886,  0.30701083],\n",
      "       [ 6.84974992, -4.41128567,  1.21196706],\n",
      "       [-7.37191698, -2.87110993, -2.52960902]]), array([[-1.8008942 , 16.07407928,  0.71464173,  0.20262906],\n",
      "       [-8.73198467, -4.79497927,  3.37957562, -0.94644851],\n",
      "       [-8.67650797, -1.62257238,  0.81343531, -0.63408491],\n",
      "       [-9.26282024, -0.49438593, -2.49277619,  0.89482498],\n",
      "       [12.32211129, -2.02535495, -1.40424534, -1.35204281],\n",
      "       [16.67226284,  0.14560886,  0.30701083, -0.55787143],\n",
      "       [ 6.84974992, -4.41128567,  1.21196706,  2.70639521],\n",
      "       [-7.37191698, -2.87110993, -2.52960902, -0.3134016 ]]), array([[-1.8008942 , 16.07407928,  0.71464173,  0.20262906, -0.33201533],\n",
      "       [-8.73198467, -4.79497927,  3.37957562, -0.94644851, -0.47388958],\n",
      "       [-8.67650797, -1.62257238,  0.81343531, -0.63408491,  1.02614701],\n",
      "       [-9.26282024, -0.49438593, -2.49277619,  0.89482498,  0.68727645],\n",
      "       [12.32211129, -2.02535495, -1.40424534, -1.35204281, -0.54298789],\n",
      "       [16.67226284,  0.14560886,  0.30701083, -0.55787143,  0.80013973],\n",
      "       [ 6.84974992, -4.41128567,  1.21196706,  2.70639521, -0.33059882],\n",
      "       [-7.37191698, -2.87110993, -2.52960902, -0.3134016 , -0.83407156]]), array([[-1.80089420e+00,  1.60740793e+01,  7.14641732e-01,\n",
      "         2.02629063e-01, -3.32015331e-01,  5.65306322e-16],\n",
      "       [-8.73198467e+00, -4.79497927e+00,  3.37957562e+00,\n",
      "        -9.46448511e-01, -4.73889581e-01,  4.09364360e-16],\n",
      "       [-8.67650797e+00, -1.62257238e+00,  8.13435314e-01,\n",
      "        -6.34084908e-01,  1.02614701e+00,  7.52362409e-16],\n",
      "       [-9.26282024e+00, -4.94385927e-01, -2.49277619e+00,\n",
      "         8.94824983e-01,  6.87276447e-01,  2.75198137e-16],\n",
      "       [ 1.23221113e+01, -2.02535495e+00, -1.40424534e+00,\n",
      "        -1.35204281e+00, -5.42987888e-01,  3.80388791e-16],\n",
      "       [ 1.66722628e+01,  1.45608859e-01,  3.07010826e-01,\n",
      "        -5.57871430e-01,  8.00139733e-01,  6.59071233e-16],\n",
      "       [ 6.84974992e+00, -4.41128567e+00,  1.21196706e+00,\n",
      "         2.70639521e+00, -3.30598823e-01,  6.09041849e-16],\n",
      "       [-7.37191698e+00, -2.87110993e+00, -2.52960902e+00,\n",
      "        -3.13401597e-01, -8.34071563e-01,  8.37987827e-16]]), array([[-1.80089420e+00,  1.60740793e+01,  7.14641732e-01,\n",
      "         2.02629063e-01, -3.32015331e-01,  5.65306322e-16,\n",
      "         0.00000000e+00],\n",
      "       [-8.73198467e+00, -4.79497927e+00,  3.37957562e+00,\n",
      "        -9.46448511e-01, -4.73889581e-01,  4.09364360e-16,\n",
      "        -0.00000000e+00],\n",
      "       [-8.67650797e+00, -1.62257238e+00,  8.13435314e-01,\n",
      "        -6.34084908e-01,  1.02614701e+00,  7.52362409e-16,\n",
      "         0.00000000e+00],\n",
      "       [-9.26282024e+00, -4.94385927e-01, -2.49277619e+00,\n",
      "         8.94824983e-01,  6.87276447e-01,  2.75198137e-16,\n",
      "        -0.00000000e+00],\n",
      "       [ 1.23221113e+01, -2.02535495e+00, -1.40424534e+00,\n",
      "        -1.35204281e+00, -5.42987888e-01,  3.80388791e-16,\n",
      "         0.00000000e+00],\n",
      "       [ 1.66722628e+01,  1.45608859e-01,  3.07010826e-01,\n",
      "        -5.57871430e-01,  8.00139733e-01,  6.59071233e-16,\n",
      "        -0.00000000e+00],\n",
      "       [ 6.84974992e+00, -4.41128567e+00,  1.21196706e+00,\n",
      "         2.70639521e+00, -3.30598823e-01,  6.09041849e-16,\n",
      "         0.00000000e+00],\n",
      "       [-7.37191698e+00, -2.87110993e+00, -2.52960902e+00,\n",
      "        -3.13401597e-01, -8.34071563e-01,  8.37987827e-16,\n",
      "        -0.00000000e+00]]), array([[-1.80089420e+00,  1.60740793e+01,  7.14641732e-01,\n",
      "         2.02629063e-01, -3.32015331e-01,  5.65306322e-16,\n",
      "         0.00000000e+00,  0.00000000e+00],\n",
      "       [-8.73198467e+00, -4.79497927e+00,  3.37957562e+00,\n",
      "        -9.46448511e-01, -4.73889581e-01,  4.09364360e-16,\n",
      "        -0.00000000e+00,  0.00000000e+00],\n",
      "       [-8.67650797e+00, -1.62257238e+00,  8.13435314e-01,\n",
      "        -6.34084908e-01,  1.02614701e+00,  7.52362409e-16,\n",
      "         0.00000000e+00, -0.00000000e+00],\n",
      "       [-9.26282024e+00, -4.94385927e-01, -2.49277619e+00,\n",
      "         8.94824983e-01,  6.87276447e-01,  2.75198137e-16,\n",
      "        -0.00000000e+00,  0.00000000e+00],\n",
      "       [ 1.23221113e+01, -2.02535495e+00, -1.40424534e+00,\n",
      "        -1.35204281e+00, -5.42987888e-01,  3.80388791e-16,\n",
      "         0.00000000e+00,  0.00000000e+00],\n",
      "       [ 1.66722628e+01,  1.45608859e-01,  3.07010826e-01,\n",
      "        -5.57871430e-01,  8.00139733e-01,  6.59071233e-16,\n",
      "        -0.00000000e+00, -0.00000000e+00],\n",
      "       [ 6.84974992e+00, -4.41128567e+00,  1.21196706e+00,\n",
      "         2.70639521e+00, -3.30598823e-01,  6.09041849e-16,\n",
      "         0.00000000e+00,  0.00000000e+00],\n",
      "       [-7.37191698e+00, -2.87110993e+00, -2.52960902e+00,\n",
      "        -3.13401597e-01, -8.34071563e-01,  8.37987827e-16,\n",
      "        -0.00000000e+00, -0.00000000e+00]])]\n"
     ]
    }
   ],
   "source": [
    "print(a)"
   ]
  },
  {
   "cell_type": "code",
   "execution_count": 194,
   "metadata": {},
   "outputs": [],
   "source": [
    "from sklearn.metrics import mean_squared_error"
   ]
  },
  {
   "cell_type": "code",
   "execution_count": 198,
   "metadata": {},
   "outputs": [
    {
     "data": {
      "text/plain": [
       "<Figure size 432x288 with 0 Axes>"
      ]
     },
     "metadata": {},
     "output_type": "display_data"
    },
    {
     "data": {
      "image/png": "[encoded data removed]",
      "text/plain": [
       "<Figure size 288x288 with 1 Axes>"
      ]
     },
     "metadata": {
      "needs_background": "light"
     },
     "output_type": "display_data"
    },
    {
     "data": {
      "text/plain": [
       "<Figure size 432x288 with 0 Axes>"
      ]
     },
     "metadata": {},
     "output_type": "display_data"
    },
    {
     "data": {
      "image/png": "[encoded data removed]",
      "text/plain": [
       "<Figure size 288x288 with 1 Axes>"
      ]
     },
     "metadata": {
      "needs_background": "light"
     },
     "output_type": "display_data"
    },
    {
     "data": {
      "text/plain": [
       "<Figure size 432x288 with 0 Axes>"
      ]
     },
     "metadata": {},
     "output_type": "display_data"
    },
    {
     "data": {
      "image/png": "[encoded data removed]",
      "text/plain": [
       "<Figure size 288x288 with 1 Axes>"
      ]
     },
     "metadata": {
      "needs_background": "light"
     },
     "output_type": "display_data"
    },
    {
     "data": {
      "text/plain": [
       "<Figure size 432x288 with 0 Axes>"
      ]
     },
     "metadata": {},
     "output_type": "display_data"
    },
    {
     "data": {
      "image/png": "[encoded data removed]",
      "text/plain": [
       "<Figure size 288x288 with 1 Axes>"
      ]
     },
     "metadata": {
      "needs_background": "light"
     },
     "output_type": "display_data"
    },
    {
     "data": {
      "text/plain": [
       "<Figure size 432x288 with 0 Axes>"
      ]
     },
     "metadata": {},
     "output_type": "display_data"
    },
    {
     "data": {
      "image/png": "[encoded data removed]",
      "text/plain": [
       "<Figure size 288x288 with 1 Axes>"
      ]
     },
     "metadata": {
      "needs_background": "light"
     },
     "output_type": "display_data"
    },
    {
     "data": {
      "text/plain": [
       "<Figure size 432x288 with 0 Axes>"
      ]
     },
     "metadata": {},
     "output_type": "display_data"
    },
    {
     "data": {
      "image/png": "[encoded data removed]",
      "text/plain": [
       "<Figure size 288x288 with 1 Axes>"
      ]
     },
     "metadata": {
      "needs_background": "light"
     },
     "output_type": "display_data"
    },
    {
     "data": {
      "text/plain": [
       "<Figure size 432x288 with 0 Axes>"
      ]
     },
     "metadata": {},
     "output_type": "display_data"
    },
    {
     "data": {
      "image/png": "[encoded data removed]",
      "text/plain": [
       "<Figure size 288x288 with 1 Axes>"
      ]
     },
     "metadata": {
      "needs_background": "light"
     },
     "output_type": "display_data"
    },
    {
     "data": {
      "text/plain": [
       "<Figure size 432x288 with 0 Axes>"
      ]
     },
     "metadata": {},
     "output_type": "display_data"
    },
    {
     "data": {
      "image/png": "[encoded data removed]",
      "text/plain": [
       "<Figure size 288x288 with 1 Axes>"
      ]
     },
     "metadata": {
      "needs_background": "light"
     },
     "output_type": "display_data"
    }
   ],
   "source": [
    "#b = list(range(1,10))\n",
    "#print(b)\n",
    "b = []\n",
    "for i in range(1,9):\n",
    "    pca = PCA(n_components=i)\n",
    "    new = pca.fit_transform(five)\n",
    "    new_inverse = pca.inverse_transform(new)\n",
    "    plt.gray() \n",
    "    plt.matshow(new_inverse) \n",
    "    plt.show()\n",
    "    mse = mean_squared_error(five, new_inverse, squared=True)\n",
    "    b.append(mse)\n"
   ]
  },
  {
   "cell_type": "code",
   "execution_count": 199,
   "metadata": {
    "scrolled": false
   },
   "outputs": [
    {
     "name": "stdout",
     "output_type": "stream",
     "text": [
      "[5.62679039920111, 0.6881812199771407, 0.23909058035760938, 0.05625253906650846, 9.928757320986827e-30, 9.972212941628276e-30, 9.972212941628276e-30, 9.972212941628276e-30]\n"
     ]
    }
   ],
   "source": [
    "print(b)"
   ]
  },
  {
   "cell_type": "code",
   "execution_count": 204,
   "metadata": {},
   "outputs": [],
   "source": [
    "import pandas as pd"
   ]
  },
  {
   "cell_type": "code",
   "execution_count": 218,
   "metadata": {},
   "outputs": [
    {
     "data": {
      "text/plain": [
       "<matplotlib.axes._subplots.AxesSubplot at 0x7fee42107bd0>"
      ]
     },
     "execution_count": 218,
     "metadata": {},
     "output_type": "execute_result"
    },
    {
     "data": {
      "image/png": "[encoded data removed]",
      "text/plain": [
       "<Figure size 432x288 with 1 Axes>"
      ]
     },
     "metadata": {
      "needs_background": "light"
     },
     "output_type": "display_data"
    }
   ],
   "source": [
    "df = pd.DataFrame({'mse':b} )\n",
    "df.plot()"
   ]
  },
  {
   "cell_type": "code",
   "execution_count": null,
   "metadata": {},
   "outputs": [],
   "source": []
  }
 ],
 "metadata": {
  "kernelspec": {
   "display_name": "Python 3",
   "language": "python",
   "name": "python3"
  },
  "language_info": {
   "codemirror_mode": {
    "name": "ipython",
    "version": 3
   },
   "file_extension": ".py",
   "mimetype": "text/x-python",
   "name": "python",
   "nbconvert_exporter": "python",
   "pygments_lexer": "ipython3",
   "version": "3.7.7"
  }
 },
 "nbformat": 4,
 "nbformat_minor": 4
}
