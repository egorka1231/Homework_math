{
 "cells": [
  {
   "cell_type": "code",
   "execution_count": 1,
   "metadata": {},
   "outputs": [],
   "source": [
    "import matplotlib.pyplot as plt\n",
    "import numpy as np\n",
    "from numpy import linalg\n",
    "\n",
    "from scipy.optimize import minimize\n",
    "%matplotlib inline"
   ]
  },
  {
   "cell_type": "markdown",
   "metadata": {},
   "source": [
    "\n",
    "## Задание 1\n",
    "Дана матрица рейтингов фильмов (строки - пользователи (10 человек), столбцы - фильмы (15 фильмов))\n",
    "\n"
   ]
  },
  {
   "cell_type": "code",
   "execution_count": 22,
   "metadata": {},
   "outputs": [],
   "source": [
    "raitings = np.array([[ 4,  4,  9,  4,  1,  6, 10,  7,  9,  6,  9,  2,  8,  6,  6],\n",
    "                     [ 9,  2,  5, 10,  7,  8, 10,  5,  6,  2,  1,  6,  8,  9,  7],\n",
    "                     [ 1,  6,  8,  8,  4,  9,  3,  8, 10,  5,  2,  6,  8,  1,  6],\n",
    "                     [ 6,  1,  9,  7,  7,  9,  2,  3,  5,  1,  6,  6,  3,  2,  7],\n",
    "                     [ 3,  7,  3,  5,  7,  9,  9,  6,  2,  9,  1,  2,  8, 10,  6],\n",
    "                     [ 8,  3,  7,  3,  8,  6,  1,  8,  8,  6,  1,  9,  4, 10,  1],\n",
    "                     [ 9,  8,  4,  8,  8, 10,  6,  1,  1,  2,  9,  5,  2,  7,  2],\n",
    "                     [ 4,  1,  6,  4,  3, 10,  4,  4,  2,  8,  7,  9,  3,  8,  3],\n",
    "                     [ 2,  7,  7,  6, 10,  6,  8,  9,  8,  6, 10,  1,  7, 10,  4],\n",
    "                     [ 5, 10,  8,  8,  9,  7,  2,  9,  9, 10,  8,  8,  8,  6, 10]])"
   ]
  },
  {
   "cell_type": "markdown",
   "metadata": {},
   "source": [
    "a) Необходимо найти наиболее похожего пользователя по косинусной метрике для каждого из (ответ: 10 пар вида (x, y), где y - наиболее похожий пользователь на пользователя x).\n",
    "\n",
    "b) Предположим, вы захотели сжать признаковые описания пользователя с 15 фильмов, до, скажем, 5-ти признаков, как вы это сделаете?"
   ]
  },
  {
   "cell_type": "code",
   "execution_count": 4,
   "metadata": {},
   "outputs": [],
   "source": [
    "def cosine(x, y):\n",
    "    \"\"\"\n",
    "    Подсчет  угла между векторами x,y по их координатам\n",
    "    \"\"\"\n",
    "    \n",
    "    # длины векторов\n",
    "    xLength = np.linalg.norm( x )\n",
    "    yLength = np.linalg.norm( y )\n",
    "\n",
    "    \n",
    "    return np.dot(x,y) / ( xLength * yLength)\n",
    "\n",
    "#np.arccos(cosine(x,y)) * 360 / 2 / np.pi\n"
   ]
  },
  {
   "cell_type": "code",
   "execution_count": 48,
   "metadata": {
    "scrolled": true
   },
   "outputs": [
    {
     "name": "stdout",
     "output_type": "stream",
     "text": [
      "на пользователя 1 больше всего похож пользователь 9\n",
      "на пользователя 2 больше всего похож пользователь 5\n",
      "на пользователя 3 больше всего похож пользователь 10\n",
      "на пользователя 4 больше всего похож пользователь 10\n",
      "на пользователя 5 больше всего похож пользователь 9\n",
      "на пользователя 6 больше всего похож пользователь 10\n",
      "на пользователя 7 больше всего похож пользователь 4\n",
      "на пользователя 8 больше всего похож пользователь 6\n",
      "на пользователя 9 больше всего похож пользователь 1\n",
      "на пользователя 10 больше всего похож пользователь 3\n"
     ]
    }
   ],
   "source": [
    "for i in range(len(raitings)):\n",
    "    similar = 0\n",
    "    for j in range(len(raitings)):\n",
    "        if i == j:\n",
    "            continue\n",
    "            \n",
    "        x = raitings[i]\n",
    "        y = raitings[j]\n",
    "\n",
    "        cos = cosine(x, v)\n",
    "            \n",
    "        if cos > similar:\n",
    "            similar = cos\n",
    "            user = j + 1\n",
    "            \n",
    "    print('на пользователя', i+1, 'больше всего похож пользователь', user)"
   ]
  },
  {
   "cell_type": "code",
   "execution_count": 56,
   "metadata": {},
   "outputs": [],
   "source": [
    "from sklearn.decomposition import TruncatedSVD"
   ]
  },
  {
   "cell_type": "code",
   "execution_count": 57,
   "metadata": {},
   "outputs": [
    {
     "data": {
      "text/plain": [
       "array([[23.41982063, -5.36092136,  3.83196779, -4.06950174,  1.10267269],\n",
       "       [24.76774917,  4.52188701,  1.35815965,  1.58128545,  8.59912002],\n",
       "       [22.27728589, -6.96492049, -4.84461485, -0.47661647,  3.37152266],\n",
       "       [19.4257757 ,  2.64575227, -6.86014009, -4.76604765,  1.96075707],\n",
       "       [22.8146354 ,  0.51464093,  7.70180188,  4.42379773,  1.29124163],\n",
       "       [21.76961656,  1.94294987, -4.56934779,  8.32306487, -2.21887359],\n",
       "       [21.23427453,  9.78047778,  1.16340271, -4.86074521, -2.60815471],\n",
       "       [19.97476815,  4.00048677, -1.67456316,  1.1512346 , -3.5637169 ],\n",
       "       [26.39306998, -3.03090482,  5.86422753, -1.67503491, -3.71500141],\n",
       "       [29.94016844, -4.82012297, -3.48912415,  0.05527083, -3.62526487]])"
      ]
     },
     "execution_count": 57,
     "metadata": {},
     "output_type": "execute_result"
    }
   ],
   "source": [
    "#Предположим, вы захотели сжать признаковые описания пользователя с 15 фильмов, до, скажем, 5-ти признаков, как вы это сделаете?\n",
    "svd = TruncatedSVD(n_components=5)\n",
    "raitings_zip = svd.fit_transform(raitings)\n",
    "raitings_zip"
   ]
  },
  {
   "cell_type": "markdown",
   "metadata": {},
   "source": [
    "## Задание 2\n",
    "\n",
    "Вычислите производную $tg^2(sin(x) + cos(2x+3))$ в точке $x_0=1$ на python и на бумаге (просто подставить точку в производную и ничего не упрощать)."
   ]
  },
  {
   "cell_type": "code",
   "execution_count": 7,
   "metadata": {},
   "outputs": [],
   "source": [
    "from sympy import diff, symbols, cos, sin, tan\n",
    "from scipy.misc import derivative"
   ]
  },
  {
   "cell_type": "code",
   "execution_count": 72,
   "metadata": {},
   "outputs": [
    {
     "data": {
      "text/latex": [
       "$\\displaystyle 2 \\left(- 2 \\sin{\\left(2 x + 3 \\right)} + \\cos{\\left(x \\right)}\\right) \\left(\\tan^{2}{\\left(\\sin{\\left(x \\right)} + \\cos{\\left(2 x + 3 \\right)} \\right)} + 1\\right) \\tan{\\left(\\sin{\\left(x \\right)} + \\cos{\\left(2 x + 3 \\right)} \\right)}$"
      ],
      "text/plain": [
       "2*(-2*sin(2*x + 3) + cos(x))*(tan(sin(x) + cos(2*x + 3))**2 + 1)*tan(sin(x) + cos(2*x + 3))"
      ]
     },
     "execution_count": 72,
     "metadata": {},
     "output_type": "execute_result"
    }
   ],
   "source": [
    "#Производная\n",
    "x = Symbol('x')\n",
    "y = (tan(sin(x)+cos(2*x+3)))**2\n",
    "y_first = y.diff(x)\n",
    "y_first"
   ]
  },
  {
   "cell_type": "code",
   "execution_count": 73,
   "metadata": {},
   "outputs": [
    {
     "name": "stdout",
     "output_type": "stream",
     "text": [
      "2*(-2*sin(2*x + 3) + cos(x))*(tan(sin(x) + cos(2*x + 3))**2 + 1)*tan(sin(x) + cos(2*x + 3))\n"
     ]
    }
   ],
   "source": [
    "print(y_first)"
   ]
  },
  {
   "cell_type": "code",
   "execution_count": 10,
   "metadata": {},
   "outputs": [
    {
     "name": "stdout",
     "output_type": "stream",
     "text": [
      "При х = 1, значение первой производной: 55.3859176433136\n"
     ]
    }
   ],
   "source": [
    "def f1(x):\n",
    "    return (tan(sin(x)+cos(2*x+3)))**2\n",
    "\n",
    "result = derivative(f1, 1, dx=1e-6)\n",
    "print(f'При х = 1, значение первой производной: {result}')"
   ]
  },
  {
   "cell_type": "markdown",
   "metadata": {},
   "source": [
    "## Задание 3\n",
    "Дана функция с неизвестными параметрами a и b, вам также известны значения функции fx в точках x. Найдите оптимальные параметры a, b, минимизирующие абсолютную ошибку **error**"
   ]
  },
  {
   "cell_type": "code",
   "execution_count": 109,
   "metadata": {},
   "outputs": [],
   "source": [
    "def f(x, a, b):\n",
    "    return np.e**a * np.sin(b*x) + x"
   ]
  },
  {
   "cell_type": "code",
   "execution_count": 110,
   "metadata": {},
   "outputs": [],
   "source": [
    "x = np.array([0.        , 0.26315789, 0.52631579, 0.78947368, 1.05263158,\n",
    "              1.31578947, 1.57894737, 1.84210526, 2.10526316, 2.36842105,\n",
    "              2.63157895, 2.89473684, 3.15789474, 3.42105263, 3.68421053,\n",
    "              3.94736842, 4.21052632, 4.47368421, 4.73684211, 5.        ])"
   ]
  },
  {
   "cell_type": "code",
   "execution_count": 111,
   "metadata": {},
   "outputs": [],
   "source": [
    "fx = np.array([  0.        , -12.01819092, -18.90968634, -17.68786571,\n",
    "                -8.7529108 ,   4.27524517,  16.06801336,  21.81250213,\n",
    "                19.22059845,   9.48411207,  -3.22273056, -13.48576488,\n",
    "               -16.91096359, -11.95866834,  -0.58630088,  12.56873816,\n",
    "                22.12489421,  24.20292139,  18.04522521,   6.33211092])"
   ]
  },
  {
   "cell_type": "code",
   "execution_count": 112,
   "metadata": {},
   "outputs": [
    {
     "data": {
      "image/png": "[encoded data removed]",
      "text/plain": [
       "<Figure size 432x288 with 1 Axes>"
      ]
     },
     "metadata": {
      "needs_background": "light"
     },
     "output_type": "display_data"
    }
   ],
   "source": [
    "plt.plot(x, fx)\n",
    "plt.show()"
   ]
  },
  {
   "cell_type": "code",
   "execution_count": 113,
   "metadata": {},
   "outputs": [],
   "source": [
    "def error(params):\n",
    "    return np.sum(np.abs(fx - f(x, params[0], params[1])))"
   ]
  },
  {
   "cell_type": "code",
   "execution_count": 130,
   "metadata": {
    "scrolled": true
   },
   "outputs": [
    {
     "name": "stdout",
     "output_type": "stream",
     "text": [
      "a = 2.237510879303416\n",
      "b = 0.24905782932126172\n"
     ]
    }
   ],
   "source": [
    "params = [0,0]\n",
    "result = minimize(error, params)\n",
    "print('a =', result.x[0])\n",
    "print('b =', result.x[1])"
   ]
  },
  {
   "cell_type": "markdown",
   "metadata": {},
   "source": [
    "## Задание 4\n",
    "Создайте собственную дискретную случайную величину с 20 значениями. Сгенерируйте 1000 выборок размера 50. Посчитайте среднее для каждой выборки. Постройте гистограмму распределения средних."
   ]
  },
  {
   "cell_type": "code",
   "execution_count": 90,
   "metadata": {
    "scrolled": true
   },
   "outputs": [
    {
     "data": {
      "text/plain": [
       "array([10,  8, 11,  5, 10, 15, 10,  2, 12,  6, 16,  8,  6,  2, 13,  3, 12,\n",
       "        9,  6,  9])"
      ]
     },
     "execution_count": 90,
     "metadata": {},
     "output_type": "execute_result"
    }
   ],
   "source": [
    "#Создайте собственную дискретную случайную величину с 20 значениями\n",
    "rand_array = np.random.randint(low=1, high=20, size=20)\n",
    "rand_array"
   ]
  },
  {
   "cell_type": "code",
   "execution_count": 93,
   "metadata": {
    "scrolled": true
   },
   "outputs": [
    {
     "name": "stdout",
     "output_type": "stream",
     "text": [
      "[ 5. 10.  5. ... 12.  9.  9.]\n",
      "[8.26, 9.48, 8.36, 9.06, 8.78, 8.88, 9.54, 9.16, 8.0, 8.12, 8.7, 8.16, 8.88, 8.38, 9.5]\n"
     ]
    }
   ],
   "source": [
    "#Сгенерируйте 1000 выборок размера 50. \n",
    "total_array = np.array([])\n",
    "total_mean = []\n",
    "for i in range(1000):\n",
    "    new_array = np.random.choice(rand_array, 50)\n",
    "    total_array = np.concatenate((total_array, new_array), axis=None)\n",
    "#Посчитайте среднее для каждой выборки\n",
    "    total_mean.append(new_array.mean())\n",
    "#     print(new_array)\n",
    "print(total_array)\n",
    "print(total_mean[0:15])"
   ]
  },
  {
   "cell_type": "code",
   "execution_count": 131,
   "metadata": {},
   "outputs": [
    {
     "data": {
      "image/png": "[encoded data removed]",
      "text/plain": [
       "<Figure size 432x288 with 1 Axes>"
      ]
     },
     "metadata": {
      "needs_background": "light"
     },
     "output_type": "display_data"
    }
   ],
   "source": [
    "#Постройте гистограмму распределения средних\n",
    "plt.hist(total_mean, 50, color='g')\n",
    "plt.show()"
   ]
  },
  {
   "cell_type": "markdown",
   "metadata": {},
   "source": [
    "## Задание 5\n",
    "Найдите собственные значения и собственные вектора матрицы (на python и на бумаге)\n",
    "\n",
    "[[1, 4],\n",
    "\n",
    "[1, 1]]"
   ]
  },
  {
   "cell_type": "code",
   "execution_count": 102,
   "metadata": {},
   "outputs": [
    {
     "name": "stdout",
     "output_type": "stream",
     "text": [
      "[[1 4]\n",
      " [1 1]]\n"
     ]
    }
   ],
   "source": [
    "matrix = np.array([[1, 4], [1, 1]])\n",
    "print(matrix)"
   ]
  },
  {
   "cell_type": "code",
   "execution_count": 103,
   "metadata": {},
   "outputs": [
    {
     "name": "stdout",
     "output_type": "stream",
     "text": [
      "Собственное значение 3.0000000000000004\n",
      "Соответствующий ему собственный вектор [0.89442719 0.4472136 ]\n",
      "Собственное значение -0.9999999999999996\n",
      "Соответствующий ему собственный вектор [-0.89442719  0.4472136 ]\n"
     ]
    }
   ],
   "source": [
    "w, v = np.linalg.eig(matrix)\n",
    "for i in range(len(w)):\n",
    "    print(\"Собственное значение \" + str(w[i]))\n",
    "    print(\"Соответствующий ему собственный вектор \" + str(v[:,i]))"
   ]
  },
  {
   "cell_type": "code",
   "execution_count": null,
   "metadata": {},
   "outputs": [],
   "source": []
  }
 ],
 "metadata": {
  "kernelspec": {
   "display_name": "Python 3",
   "language": "python",
   "name": "python3"
  },
  "language_info": {
   "codemirror_mode": {
    "name": "ipython",
    "version": 3
   },
   "file_extension": ".py",
   "mimetype": "text/x-python",
   "name": "python",
   "nbconvert_exporter": "python",
   "pygments_lexer": "ipython3",
   "version": "3.7.7"
  }
 },
 "nbformat": 4,
 "nbformat_minor": 4
}
